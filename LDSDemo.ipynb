{
 "cells": [
  {
   "cell_type": "markdown",
   "metadata": {},
   "source": [
    "# Эквивалентность моделей вход-выход, моделей в пространстве состояний и авторегрессионных моделей ВР "
   ]
  },
  {
   "cell_type": "code",
   "execution_count": 1,
   "metadata": {},
   "outputs": [],
   "source": [
    "import numpy as np\n",
    "from scipy.signal import dlti, dlsim, unit_impulse\n",
    "import seaborn as sns\n",
    "import matplotlib.pyplot as plt\n",
    "from IPython.display import display, Math\n",
    "import statsmodels.api as sm\n",
    "\n",
    "from linear_dynamics import LinearDynamicalSystem as LDS\n",
    "np.set_printoptions(precision=2)"
   ]
  },
  {
   "cell_type": "code",
   "execution_count": 2,
   "metadata": {},
   "outputs": [],
   "source": [
    "def bmatrix(a: np.ndarray, name: str) -> str:\n",
    "    \"\"\"Returns a LaTeX bmatrix\n",
    "\n",
    "    :a: numpy array\n",
    "    :returns: LaTeX bmatrix as a string\n",
    "    \"\"\"\n",
    "    if len(a.shape) > 2:\n",
    "        raise ValueError('bmatrix can at most display two dimensions')\n",
    "    lines = str(np.round(a, 3)).replace('[', '').replace(']', '').splitlines()\n",
    "    rv = [name + r' = \\begin{bmatrix}']\n",
    "    rv += ['  ' + ' & '.join(l.split()) + r'\\\\' for l in lines]\n",
    "    rv +=  [r'\\end{bmatrix}']\n",
    "    return '\\n'.join(rv)\n",
    "\n",
    "def plot_signal(sig: np.ndarray, filtered: np.array) -> None:\n",
    "    \"\"\"Visualize system response\n",
    "\n",
    "    :sig: numpy array, input signal\n",
    "    :filtered: numpy array, system response\n",
    "    \"\"\"\n",
    "    fig, (ax_orig, ax_filt) = plt.subplots(2, 1, sharex=True)\n",
    "    ax_orig.plot(sig)\n",
    "    ax_orig.set_title('Original pulse')\n",
    "    ax_orig.margins(0, 0.1)\n",
    "    ax_filt.plot(filtered)\n",
    "    ax_filt.set_title('Filtered signal')\n",
    "    ax_filt.margins(0, 0.1)\n",
    "    fig.tight_layout()\n",
    "    plt.show()"
   ]
  },
  {
   "cell_type": "markdown",
   "metadata": {},
   "source": [
    "## Задаем параметры жордановой клетки и количества наблюдений "
   ]
  },
  {
   "cell_type": "code",
   "execution_count": null,
   "metadata": {},
   "outputs": [],
   "source": [
    "N_REAL = 6\n",
    "N_COMPLEX = 2\n",
    "T_OBS = 100"
   ]
  },
  {
   "cell_type": "code",
   "execution_count": 27,
   "metadata": {},
   "outputs": [],
   "source": [
    "lds = LDS(N_REAL, N_COMPLEX)\n",
    "sig = unit_impulse(T_OBS)"
   ]
  },
  {
   "cell_type": "code",
   "execution_count": 18,
   "metadata": {},
   "outputs": [
    {
     "data": {
      "text/latex": [
       "$\\displaystyle f^s = \\begin{bmatrix}\n",
       "  0. & 0. & 0. & 0. & 0. & 0. & -0.89 & -0.87\\\\\n",
       "\\end{bmatrix}$"
      ],
      "text/plain": [
       "<IPython.core.display.Math object>"
      ]
     },
     "metadata": {},
     "output_type": "display_data"
    },
    {
     "data": {
      "text/latex": [
       "$\\displaystyle f^c = \\begin{bmatrix}\n",
       "  -0.73 & -0.98 & 0.6 & 0.6 & -0.59 & 0.86 & 0.74 & -0.65\\\\\n",
       "\\end{bmatrix}$"
      ],
      "text/plain": [
       "<IPython.core.display.Math object>"
      ]
     },
     "metadata": {},
     "output_type": "display_data"
    },
    {
     "data": {
      "text/latex": [
       "$\\displaystyle \\rho = \\begin{bmatrix}\n",
       "  0.9 & 0.98 & 0.91 & 0.92 & 0.9 & 0.98 & 0.38 & 0.84\\\\\n",
       "\\end{bmatrix}$"
      ],
      "text/plain": [
       "<IPython.core.display.Math object>"
      ]
     },
     "metadata": {},
     "output_type": "display_data"
    }
   ],
   "source": [
    "display(Math(bmatrix(np.array(lds.f_s), r'f^s')))\n",
    "display(Math(bmatrix(np.array(lds.f_c), r'f^c')))\n",
    "display(Math(bmatrix(np.array(lds.ro), r'\\rho')))"
   ]
  },
  {
   "cell_type": "markdown",
   "metadata": {},
   "source": [
    "## Запуск симуляции "
   ]
  },
  {
   "cell_type": "code",
   "execution_count": 28,
   "metadata": {},
   "outputs": [
    {
     "data": {
      "image/png": "[encoded data removed]",
      "text/plain": [
       "<Figure size 432x288 with 2 Axes>"
      ]
     },
     "metadata": {},
     "output_type": "display_data"
    }
   ],
   "source": [
    "%matplotlib inline\n",
    "sns.set()\n",
    "plot_signal(sig, lds.simulate(T_OBS, sig))"
   ]
  },
  {
   "cell_type": "markdown",
   "metadata": {},
   "source": [
    "## Переход к пространству состояний "
   ]
  },
  {
   "cell_type": "code",
   "execution_count": 30,
   "metadata": {},
   "outputs": [
    {
     "name": "stderr",
     "output_type": "stream",
     "text": [
      "C:\\Users\\andro\\Documents\\Python Scripts\\linear_dynamics\\linear_dynamics.py:84: ComplexWarning: Casting complex values to real discards the imaginary part\n",
      "  A[:, -1] = np.array(ai[::-1]).T\n"
     ]
    }
   ],
   "source": [
    "system = dlti(*lds.get_statespace(), dt=1)"
   ]
  },
  {
   "cell_type": "code",
   "execution_count": 31,
   "metadata": {},
   "outputs": [],
   "source": [
    "_, y, _ = dlsim(system, sig)"
   ]
  },
  {
   "cell_type": "code",
   "execution_count": 32,
   "metadata": {},
   "outputs": [
    {
     "data": {
      "image/png": "[encoded data removed]",
      "text/plain": [
       "<Figure size 432x288 with 2 Axes>"
      ]
     },
     "metadata": {
      "needs_background": "light"
     },
     "output_type": "display_data"
    }
   ],
   "source": [
    "%matplotlib inline\n",
    "plot_signal(sig, y.T.ravel())"
   ]
  },
  {
   "cell_type": "markdown",
   "metadata": {},
   "source": [
    "## Переход к модели авторегрессии"
   ]
  },
  {
   "cell_type": "code",
   "execution_count": 34,
   "metadata": {},
   "outputs": [
    {
     "name": "stderr",
     "output_type": "stream",
     "text": [
      "C:\\Users\\andro\\Documents\\Python Scripts\\linear_dynamics\\linear_dynamics.py:84: ComplexWarning: Casting complex values to real discards the imaginary part\n",
      "  A[:, -1] = np.array(ai[::-1]).T\n"
     ]
    }
   ],
   "source": [
    "arma_process = sm.tsa.ArmaProcess(*lds.get_arma())"
   ]
  },
  {
   "cell_type": "code",
   "execution_count": 36,
   "metadata": {},
   "outputs": [
    {
     "data": {
      "image/png": "[encoded data removed]",
      "text/plain": [
       "<Figure size 432x288 with 2 Axes>"
      ]
     },
     "metadata": {
      "needs_background": "light"
     },
     "output_type": "display_data"
    }
   ],
   "source": [
    "%matplotlib inline\n",
    "plot_signal(sig, arma_process.impulse_response(T_OBS))"
   ]
  },
  {
   "cell_type": "markdown",
   "metadata": {},
   "source": [
    "## Вывод: визуально очевидна эквивалентность всех трёх форм представления системы "
   ]
  }
 ],
 "metadata": {
  "kernelspec": {
   "display_name": "Python 3",
   "language": "python",
   "name": "python3"
  },
  "language_info": {
   "codemirror_mode": {
    "name": "ipython",
    "version": 3
   },
   "file_extension": ".py",
   "mimetype": "text/x-python",
   "name": "python",
   "nbconvert_exporter": "python",
   "pygments_lexer": "ipython3",
   "version": "3.8.5"
  }
 },
 "nbformat": 4,
 "nbformat_minor": 4
}
