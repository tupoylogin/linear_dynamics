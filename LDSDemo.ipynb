{
 "cells": [
  {
   "cell_type": "markdown",
   "metadata": {},
   "source": [
    "# Эквивалентность моделей вход-выход, моделей в пространстве состояний и авторегрессионных моделей ВР "
   ]
  },
  {
   "cell_type": "code",
   "execution_count": 1,
   "metadata": {},
   "outputs": [],
   "source": [
    "from datetime import datetime\n",
    "import numpy as np\n",
    "from numpy.random import MT19937\n",
    "from numpy.random import RandomState, SeedSequence\n",
    "from scipy.signal import dlti, dlsim, unit_impulse\n",
    "from scipy.linalg import norm\n",
    "import seaborn as sns\n",
    "import matplotlib.pyplot as plt\n",
    "from IPython.display import display, Math\n",
    "import statsmodels.api as sm\n",
    "\n",
    "from linear_dynamics import LinearDynamicalSystem as LDS\n",
    "np.set_printoptions(precision=2)\n",
    "RS = RandomState(MT19937(SeedSequence(int(datetime.now().timestamp()*1e5))))"
   ]
  },
  {
   "cell_type": "code",
   "execution_count": 2,
   "metadata": {},
   "outputs": [],
   "source": [
    "def bmatrix(a: np.ndarray, name: str) -> str:\n",
    "    \"\"\"Returns a LaTeX bmatrix\n",
    "\n",
    "    :a: numpy array\n",
    "    :returns: LaTeX bmatrix as a string\n",
    "    \"\"\"\n",
    "    if len(a.shape) > 2:\n",
    "        raise ValueError('bmatrix can at most display two dimensions')\n",
    "    lines = str(np.round(a, 3)).replace('[', '').replace(']', '').splitlines()\n",
    "    rv = [name + r' = \\begin{bmatrix}']\n",
    "    rv += ['  ' + ' & '.join(l.split()) + r'\\\\' for l in lines]\n",
    "    rv +=  [r'\\end{bmatrix}']\n",
    "    return '\\n'.join(rv)\n",
    "\n",
    "def plot_signal(sig: np.ndarray, filtered: np.array) -> None:\n",
    "    \"\"\"Visualize system response\n",
    "\n",
    "    :sig: numpy array, input signal\n",
    "    :filtered: numpy array, system response\n",
    "    \"\"\"\n",
    "    fig, (ax_orig, ax_filt) = plt.subplots(2, 1, sharex=True)\n",
    "    ax_orig.plot(sig)\n",
    "    ax_orig.set_title('Original pulse')\n",
    "    ax_orig.margins(0, 0.1)\n",
    "    ax_filt.plot(filtered)\n",
    "    ax_filt.set_title('Filtered signal')\n",
    "    ax_filt.margins(0, 0.1)\n",
    "    fig.tight_layout()\n",
    "    plt.show()"
   ]
  },
  {
   "cell_type": "markdown",
   "metadata": {},
   "source": [
    "## Задаем параметры жордановой клетки и количества наблюдений "
   ]
  },
  {
   "cell_type": "code",
   "execution_count": 3,
   "metadata": {},
   "outputs": [],
   "source": [
    "N_REAL = 6\n",
    "N_COMPLEX = 2\n",
    "T_OBS = 120"
   ]
  },
  {
   "cell_type": "code",
   "execution_count": 4,
   "metadata": {},
   "outputs": [],
   "source": [
    "lds = LDS(N_REAL, N_COMPLEX)\n",
    "sig = unit_impulse(T_OBS)"
   ]
  },
  {
   "cell_type": "code",
   "execution_count": 5,
   "metadata": {},
   "outputs": [
    {
     "data": {
      "text/latex": [
       "$\\displaystyle f^s = \\begin{bmatrix}\n",
       "  0. & 0. & 0. & 0. & 0. & 0. & 0.51 & -0.91\\\\\n",
       "\\end{bmatrix}$"
      ],
      "text/plain": [
       "<IPython.core.display.Math object>"
      ]
     },
     "metadata": {},
     "output_type": "display_data"
    },
    {
     "data": {
      "text/latex": [
       "$\\displaystyle f^c = \\begin{bmatrix}\n",
       "  -0.58 & -0.91 & -0.85 & -0.69 & -0.88 & 0.77 & -0.98 & 0.88\\\\\n",
       "\\end{bmatrix}$"
      ],
      "text/plain": [
       "<IPython.core.display.Math object>"
      ]
     },
     "metadata": {},
     "output_type": "display_data"
    },
    {
     "data": {
      "text/latex": [
       "$\\displaystyle \\rho = \\begin{bmatrix}\n",
       "  0.02 & 0.84 & 0.98 & 0.08 & 0.08 & 0.67 & 0.55 & 0.82\\\\\n",
       "\\end{bmatrix}$"
      ],
      "text/plain": [
       "<IPython.core.display.Math object>"
      ]
     },
     "metadata": {},
     "output_type": "display_data"
    }
   ],
   "source": [
    "display(Math(bmatrix(np.array(lds.f_s), r'f^s')))\n",
    "display(Math(bmatrix(np.array(lds.f_c), r'f^c')))\n",
    "display(Math(bmatrix(np.array(lds.ro), r'\\rho')))"
   ]
  },
  {
   "cell_type": "markdown",
   "metadata": {},
   "source": [
    "## Запуск симуляции "
   ]
  },
  {
   "cell_type": "code",
   "execution_count": 6,
   "metadata": {},
   "outputs": [
    {
     "data": {
      "image/png": "[encoded data removed]",
      "text/plain": [
       "<Figure size 432x288 with 2 Axes>"
      ]
     },
     "metadata": {},
     "output_type": "display_data"
    }
   ],
   "source": [
    "%matplotlib inline\n",
    "sns.set()\n",
    "plot_signal(sig, lds.simulate(T_OBS, sig))"
   ]
  },
  {
   "cell_type": "markdown",
   "metadata": {},
   "source": [
    "## Переход к пространству состояний "
   ]
  },
  {
   "cell_type": "code",
   "execution_count": 7,
   "metadata": {},
   "outputs": [
    {
     "name": "stderr",
     "output_type": "stream",
     "text": [
      "C:\\Users\\andro\\Documents\\Python Scripts\\linear_dynamics\\linear_dynamics.py:84: ComplexWarning: Casting complex values to real discards the imaginary part\n",
      "  A[:, -1] = np.array(ai[::-1]).T\n"
     ]
    }
   ],
   "source": [
    "system = dlti(*lds.get_statespace(), dt=1)"
   ]
  },
  {
   "cell_type": "code",
   "execution_count": 8,
   "metadata": {},
   "outputs": [],
   "source": [
    "_, y, _ = dlsim(system, sig)"
   ]
  },
  {
   "cell_type": "code",
   "execution_count": 9,
   "metadata": {},
   "outputs": [
    {
     "data": {
      "image/png": "[encoded data removed]",
      "text/plain": [
       "<Figure size 432x288 with 2 Axes>"
      ]
     },
     "metadata": {
      "needs_background": "light"
     },
     "output_type": "display_data"
    }
   ],
   "source": [
    "%matplotlib inline\n",
    "plot_signal(sig, y.T.ravel())"
   ]
  },
  {
   "cell_type": "markdown",
   "metadata": {},
   "source": [
    "## Переход к модели авторегрессии"
   ]
  },
  {
   "cell_type": "code",
   "execution_count": 10,
   "metadata": {},
   "outputs": [
    {
     "name": "stderr",
     "output_type": "stream",
     "text": [
      "C:\\Users\\andro\\Documents\\Python Scripts\\linear_dynamics\\linear_dynamics.py:84: ComplexWarning: Casting complex values to real discards the imaginary part\n",
      "  A[:, -1] = np.array(ai[::-1]).T\n"
     ]
    }
   ],
   "source": [
    "arma_process = sm.tsa.ArmaProcess(*lds.get_arma())"
   ]
  },
  {
   "cell_type": "code",
   "execution_count": 11,
   "metadata": {},
   "outputs": [
    {
     "data": {
      "image/png": "[encoded data removed]",
      "text/plain": [
       "<Figure size 432x288 with 2 Axes>"
      ]
     },
     "metadata": {
      "needs_background": "light"
     },
     "output_type": "display_data"
    }
   ],
   "source": [
    "%matplotlib inline\n",
    "plot_signal(sig, arma_process.impulse_response(T_OBS))"
   ]
  },
  {
   "cell_type": "markdown",
   "metadata": {},
   "source": [
    "## Вывод: визуально очевидна эквивалентность всех трёх форм представления системы, однако выведем погрешность отклика формы 1 системы 1 относительно двух других эквивалентных форм "
   ]
  },
  {
   "cell_type": "code",
   "execution_count": 12,
   "metadata": {},
   "outputs": [
    {
     "data": {
      "text/latex": [
       "$\\displaystyle  || \\epsilon_{1,2} ||_2 = 6.194060413275732e-05 $"
      ],
      "text/plain": [
       "<IPython.core.display.Math object>"
      ]
     },
     "metadata": {},
     "output_type": "display_data"
    },
    {
     "data": {
      "text/latex": [
       "$\\displaystyle  || \\epsilon_{1,3} ||_2 = 6.194060413275732e-05 $"
      ],
      "text/plain": [
       "<IPython.core.display.Math object>"
      ]
     },
     "metadata": {},
     "output_type": "display_data"
    },
    {
     "data": {
      "text/latex": [
       "$\\displaystyle  || \\epsilon_{1,2} ||_\\infty = 2.5983906247639688e-05 $"
      ],
      "text/plain": [
       "<IPython.core.display.Math object>"
      ]
     },
     "metadata": {},
     "output_type": "display_data"
    },
    {
     "data": {
      "text/latex": [
       "$\\displaystyle  || \\epsilon_{1,3} ||_\\infty = 2.5983906247639688e-05 $"
      ],
      "text/plain": [
       "<IPython.core.display.Math object>"
      ]
     },
     "metadata": {},
     "output_type": "display_data"
    }
   ],
   "source": [
    "display(Math(r'$ || \\epsilon_{1,2} ||_2 = %s $' % str(norm(lds.simulate(T_OBS, sig)-y.T.ravel(), ord=2))))\n",
    "display(Math(r'$ || \\epsilon_{1,3} ||_2 = %s $' % str(norm(lds.simulate(T_OBS, sig)- arma_process.impulse_response(T_OBS), ord=2))))\n",
    "display(Math(r'$ || \\epsilon_{1,2} ||_\\infty = %s $' % str(norm(lds.simulate(T_OBS, sig)-y.T.ravel(), ord=np.inf))))\n",
    "display(Math(r'$ || \\epsilon_{1,3} ||_\\infty = %s $' % str(norm(lds.simulate(T_OBS, sig)- arma_process.impulse_response(T_OBS), ord=np.inf))))"
   ]
  },
  {
   "cell_type": "markdown",
   "metadata": {},
   "source": [
    "## Задаем параметры жордановой клетки и количества наблюдений  для модели 2"
   ]
  },
  {
   "cell_type": "code",
   "execution_count": 13,
   "metadata": {},
   "outputs": [],
   "source": [
    "N_REAL = 2\n",
    "N_COMPLEX = 7\n",
    "T_OBS = 200"
   ]
  },
  {
   "cell_type": "code",
   "execution_count": 14,
   "metadata": {},
   "outputs": [],
   "source": [
    "lds = LDS(N_REAL, N_COMPLEX)\n",
    "sig = unit_impulse(T_OBS)"
   ]
  },
  {
   "cell_type": "code",
   "execution_count": 15,
   "metadata": {},
   "outputs": [
    {
     "data": {
      "text/latex": [
       "$\\displaystyle f^s = \\begin{bmatrix}\n",
       "  0. & 0. & 0.59 & -0.63 & 0.91 & 0.52 & 0.89 & 0.78 & -0.97\\\\\n",
       "\\end{bmatrix}$"
      ],
      "text/plain": [
       "<IPython.core.display.Math object>"
      ]
     },
     "metadata": {},
     "output_type": "display_data"
    },
    {
     "data": {
      "text/latex": [
       "$\\displaystyle f^c = \\begin{bmatrix}\n",
       "  -0.62 & 0.95 & 0.72 & -0.97 & 0.72 & 0.72 & -0.81 & 0.84 & 0.94\\\\\n",
       "\\end{bmatrix}$"
      ],
      "text/plain": [
       "<IPython.core.display.Math object>"
      ]
     },
     "metadata": {},
     "output_type": "display_data"
    },
    {
     "data": {
      "text/latex": [
       "$\\displaystyle \\rho = \\begin{bmatrix}\n",
       "  0.8 & 0.87 & 0.71 & 0.67 & 0.22 & 0.52 & 0.73 & 0.65 & 0.34\\\\\n",
       "\\end{bmatrix}$"
      ],
      "text/plain": [
       "<IPython.core.display.Math object>"
      ]
     },
     "metadata": {},
     "output_type": "display_data"
    }
   ],
   "source": [
    "display(Math(bmatrix(np.array(lds.f_s), r'f^s')))\n",
    "display(Math(bmatrix(np.array(lds.f_c), r'f^c')))\n",
    "display(Math(bmatrix(np.array(lds.ro), r'\\rho')))"
   ]
  },
  {
   "cell_type": "markdown",
   "metadata": {},
   "source": [
    "## Запуск симуляции "
   ]
  },
  {
   "cell_type": "code",
   "execution_count": 16,
   "metadata": {},
   "outputs": [
    {
     "data": {
      "image/png": "[encoded data removed]",
      "text/plain": [
       "<Figure size 432x288 with 2 Axes>"
      ]
     },
     "metadata": {},
     "output_type": "display_data"
    }
   ],
   "source": [
    "%matplotlib inline\n",
    "sns.set()\n",
    "plot_signal(sig, lds.simulate(T_OBS, sig))"
   ]
  },
  {
   "cell_type": "markdown",
   "metadata": {},
   "source": [
    "## Переход к пространству состояний "
   ]
  },
  {
   "cell_type": "code",
   "execution_count": 17,
   "metadata": {},
   "outputs": [
    {
     "name": "stderr",
     "output_type": "stream",
     "text": [
      "C:\\Users\\andro\\Documents\\Python Scripts\\linear_dynamics\\linear_dynamics.py:84: ComplexWarning: Casting complex values to real discards the imaginary part\n",
      "  A[:, -1] = np.array(ai[::-1]).T\n"
     ]
    }
   ],
   "source": [
    "system = dlti(*lds.get_statespace(), dt=1)"
   ]
  },
  {
   "cell_type": "code",
   "execution_count": 18,
   "metadata": {},
   "outputs": [],
   "source": [
    "_, y, _ = dlsim(system, sig)"
   ]
  },
  {
   "cell_type": "code",
   "execution_count": 19,
   "metadata": {},
   "outputs": [
    {
     "data": {
      "image/png": "[encoded data removed]",
      "text/plain": [
       "<Figure size 432x288 with 2 Axes>"
      ]
     },
     "metadata": {
      "needs_background": "light"
     },
     "output_type": "display_data"
    }
   ],
   "source": [
    "%matplotlib inline\n",
    "plot_signal(sig, y.T.ravel())"
   ]
  },
  {
   "cell_type": "markdown",
   "metadata": {},
   "source": [
    "## Переход к модели авторегрессии"
   ]
  },
  {
   "cell_type": "code",
   "execution_count": 20,
   "metadata": {},
   "outputs": [
    {
     "name": "stderr",
     "output_type": "stream",
     "text": [
      "C:\\Users\\andro\\Documents\\Python Scripts\\linear_dynamics\\linear_dynamics.py:84: ComplexWarning: Casting complex values to real discards the imaginary part\n",
      "  A[:, -1] = np.array(ai[::-1]).T\n"
     ]
    }
   ],
   "source": [
    "arma_process = sm.tsa.ArmaProcess(*lds.get_arma())"
   ]
  },
  {
   "cell_type": "code",
   "execution_count": 21,
   "metadata": {},
   "outputs": [
    {
     "data": {
      "image/png": "[encoded data removed]",
      "text/plain": [
       "<Figure size 432x288 with 2 Axes>"
      ]
     },
     "metadata": {
      "needs_background": "light"
     },
     "output_type": "display_data"
    }
   ],
   "source": [
    "%matplotlib inline\n",
    "plot_signal(sig, arma_process.impulse_response(T_OBS))"
   ]
  },
  {
   "cell_type": "markdown",
   "metadata": {},
   "source": [
    "## Вывод: визуально очевидна эквивалентность всех трёх форм представления системы, однако выведем погрешность отклика формы 1 системы 2 относительно двух других эквивалентных форм "
   ]
  },
  {
   "cell_type": "code",
   "execution_count": 22,
   "metadata": {},
   "outputs": [
    {
     "data": {
      "text/latex": [
       "$\\displaystyle  || \\epsilon_{1,2} ||_2 = 0.00010751637264496593 $"
      ],
      "text/plain": [
       "<IPython.core.display.Math object>"
      ]
     },
     "metadata": {},
     "output_type": "display_data"
    },
    {
     "data": {
      "text/latex": [
       "$\\displaystyle  || \\epsilon_{1,3} ||_2 = 0.0001075163726122363 $"
      ],
      "text/plain": [
       "<IPython.core.display.Math object>"
      ]
     },
     "metadata": {},
     "output_type": "display_data"
    },
    {
     "data": {
      "text/latex": [
       "$\\displaystyle  || \\epsilon_{1,2} ||_\\infty = 7.036404092336523e-05 $"
      ],
      "text/plain": [
       "<IPython.core.display.Math object>"
      ]
     },
     "metadata": {},
     "output_type": "display_data"
    },
    {
     "data": {
      "text/latex": [
       "$\\displaystyle  || \\epsilon_{1,3} ||_\\infty = 7.036404092336523e-05 $"
      ],
      "text/plain": [
       "<IPython.core.display.Math object>"
      ]
     },
     "metadata": {},
     "output_type": "display_data"
    }
   ],
   "source": [
    "display(Math(r'$ || \\epsilon_{1,2} ||_2 = %s $' % str(norm(lds.simulate(T_OBS, sig)-y.T.ravel(), ord=2))))\n",
    "display(Math(r'$ || \\epsilon_{1,3} ||_2 = %s $' % str(norm(lds.simulate(T_OBS, sig)- arma_process.impulse_response(T_OBS), ord=2))))\n",
    "display(Math(r'$ || \\epsilon_{1,2} ||_\\infty = %s $' % str(norm(lds.simulate(T_OBS, sig)-y.T.ravel(), ord=np.inf))))\n",
    "display(Math(r'$ || \\epsilon_{1,3} ||_\\infty = %s $' % str(norm(lds.simulate(T_OBS, sig)- arma_process.impulse_response(T_OBS), ord=np.inf))))"
   ]
  }
 ],
 "metadata": {
  "kernelspec": {
   "display_name": "Python 3",
   "language": "python",
   "name": "python3"
  },
  "language_info": {
   "codemirror_mode": {
    "name": "ipython",
    "version": 3
   },
   "file_extension": ".py",
   "mimetype": "text/x-python",
   "name": "python",
   "nbconvert_exporter": "python",
   "pygments_lexer": "ipython3",
   "version": "3.8.5"
  }
 },
 "nbformat": 4,
 "nbformat_minor": 4
}
